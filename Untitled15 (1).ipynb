{
  "nbformat": 4,
  "nbformat_minor": 0,
  "metadata": {
    "colab": {
      "provenance": [],
      "gpuType": "T4"
    },
    "kernelspec": {
      "name": "python3",
      "display_name": "Python 3"
    },
    "language_info": {
      "name": "python"
    },
    "accelerator": "GPU"
  },
  "cells": [
    {
      "cell_type": "markdown",
      "source": [
        "**started the code to know, how to use google API for text generation**"
      ],
      "metadata": {
        "id": "1OT0sIRM9ES0"
      }
    },
    {
      "cell_type": "code",
      "source": [
        "!pip install -q -U google-generativeai"
      ],
      "metadata": {
        "colab": {
          "base_uri": "https://localhost:8080/"
        },
        "id": "vVu3TH3XEAoe",
        "outputId": "25262c13-bfe5-4881-9f95-c7018c42fb27"
      },
      "execution_count": null,
      "outputs": [
        {
          "output_type": "stream",
          "name": "stdout",
          "text": [
            "\u001b[?25l     \u001b[90m━━━━━━━━━━━━━━━━━━━━━━━━━━━━━━━━━━━━━━━━\u001b[0m \u001b[32m0.0/158.8 kB\u001b[0m \u001b[31m?\u001b[0m eta \u001b[36m-:--:--\u001b[0m\r\u001b[2K     \u001b[91m━━\u001b[0m\u001b[91m╸\u001b[0m\u001b[90m━━━━━━━━━━━━━━━━━━━━━━━━━━━━━━━━━━━━━\u001b[0m \u001b[32m10.2/158.8 kB\u001b[0m \u001b[31m?\u001b[0m eta \u001b[36m-:--:--\u001b[0m\r\u001b[2K     \u001b[91m━━━━━━━━━━\u001b[0m\u001b[90m╺\u001b[0m\u001b[90m━━━━━━━━━━━━━━━━━━━━━━━━━━━━━\u001b[0m \u001b[32m41.0/158.8 kB\u001b[0m \u001b[31m712.0 kB/s\u001b[0m eta \u001b[36m0:00:01\u001b[0m\r\u001b[2K     \u001b[91m━━━━━━━━━━━━━━━━━━━━━━━━━━━━━━━━━━━━\u001b[0m\u001b[90m╺\u001b[0m\u001b[90m━━━\u001b[0m \u001b[32m143.4/158.8 kB\u001b[0m \u001b[31m1.4 MB/s\u001b[0m eta \u001b[36m0:00:01\u001b[0m\r\u001b[2K     \u001b[90m━━━━━━━━━━━━━━━━━━━━━━━━━━━━━━━━━━━━━━━━\u001b[0m \u001b[32m158.8/158.8 kB\u001b[0m \u001b[31m1.2 MB/s\u001b[0m eta \u001b[36m0:00:00\u001b[0m\n",
            "\u001b[?25h"
          ]
        }
      ]
    },
    {
      "cell_type": "code",
      "source": [
        "import pathlib\n",
        "import textwrap\n",
        "\n",
        "import google.generativeai as genai\n",
        "\n",
        "from IPython.display import display\n",
        "from IPython.display import Markdown\n",
        "\n",
        "\n",
        "def to_markdown(text):\n",
        "  text = text.replace('•', '  *')\n",
        "  return Markdown(textwrap.indent(text, '> ', predicate=lambda _: True))"
      ],
      "metadata": {
        "id": "SXZmVJ7vECjI"
      },
      "execution_count": null,
      "outputs": []
    },
    {
      "cell_type": "code",
      "source": [
        "# Used to securely store  API key\n",
        "from google.colab import userdata"
      ],
      "metadata": {
        "id": "U1H7EwYwEMFT"
      },
      "execution_count": null,
      "outputs": []
    },
    {
      "cell_type": "code",
      "source": [
        "#  used `os.getenv('GOOGLE_API_KEY')` to fetch an environment variable.\n",
        "GOOGLE_API_KEY=userdata.get('GOOGLE_API_KEY')\n",
        "\n",
        "genai.configure(api_key=GOOGLE_API_KEY)"
      ],
      "metadata": {
        "id": "EVhclsCREZ9O"
      },
      "execution_count": null,
      "outputs": []
    },
    {
      "cell_type": "markdown",
      "source": [],
      "metadata": {
        "id": "NBsxh_PL9CMH"
      }
    },
    {
      "cell_type": "code",
      "source": [
        "for m in genai.list_models():\n",
        "  if 'generateContent' in m.supported_generation_methods:\n",
        "    print(m.name)"
      ],
      "metadata": {
        "colab": {
          "base_uri": "https://localhost:8080/",
          "height": 225
        },
        "id": "sGjCfV0nEn3l",
        "outputId": "c62d380c-7060-4194-bc7d-4fbefcb5fba2"
      },
      "execution_count": null,
      "outputs": [
        {
          "output_type": "stream",
          "name": "stdout",
          "text": [
            "models/gemini-1.0-pro\n",
            "models/gemini-1.0-pro-001\n",
            "models/gemini-1.0-pro-latest\n",
            "models/gemini-1.0-pro-vision-latest\n",
            "models/gemini-1.5-flash\n",
            "models/gemini-1.5-flash-001\n",
            "models/gemini-1.5-flash-latest\n",
            "models/gemini-1.5-pro\n",
            "models/gemini-1.5-pro-001\n",
            "models/gemini-1.5-pro-latest\n",
            "models/gemini-pro\n",
            "models/gemini-pro-vision\n"
          ]
        }
      ]
    },
    {
      "cell_type": "code",
      "source": [
        "model = genai.GenerativeModel('gemini-1.5-flash')"
      ],
      "metadata": {
        "id": "PCJ2xxuzFwTr"
      },
      "execution_count": null,
      "outputs": []
    },
    {
      "cell_type": "code",
      "source": [
        "%%time\n",
        "response = model.generate_content(\"What is a fan?\")"
      ],
      "metadata": {
        "colab": {
          "base_uri": "https://localhost:8080/",
          "height": 52
        },
        "id": "7f6tNqC5GGDv",
        "outputId": "8c592a8d-aa01-467f-d430-9f3012ee3199"
      },
      "execution_count": null,
      "outputs": [
        {
          "output_type": "stream",
          "name": "stdout",
          "text": [
            "CPU times: user 42.5 ms, sys: 2.81 ms, total: 45.3 ms\n",
            "Wall time: 5.4 s\n"
          ]
        }
      ]
    },
    {
      "cell_type": "code",
      "source": [
        "to_markdown(response.text)"
      ],
      "metadata": {
        "colab": {
          "base_uri": "https://localhost:8080/",
          "height": 348
        },
        "id": "YBdP4mGlGHi7",
        "outputId": "2e179657-7c91-430a-bb08-d856c11d6c8a"
      },
      "execution_count": null,
      "outputs": [
        {
          "output_type": "execute_result",
          "data": {
            "text/plain": [
              "<IPython.core.display.Markdown object>"
            ],
            "text/markdown": "> The word \"fan\" has a few different meanings depending on the context:\n> \n> **1. A device for creating airflow:**\n> \n> This is the most common meaning. A fan is a mechanical device that uses blades to move air, creating a current of airflow. This can be used for:\n> \n> * **Cooling:** Fans are used to cool people, electronics, engines, and other objects.\n> * **Ventilation:** Fans can be used to circulate air in enclosed spaces, removing stale air and bringing in fresh air.\n> * **Drying:** Fans can be used to dry wet surfaces, such as laundry or paint.\n> \n> **2. An enthusiastic supporter:**\n> \n> A fan is someone who is very enthusiastic about something, such as a particular sport, band, movie, or book. They may follow their favourite thing closely, attend events, buy merchandise, and engage in discussions with other fans.\n> \n> **3. A short form for \"fantastic\":**\n> \n> This is an informal, slang term used to express enthusiasm or excitement. For example: \"That movie was fan!\"\n> \n> **4. A person who uses a fan (the device):**\n> \n> This is a less common usage, but it can refer to someone who is using a fan to cool themselves or something else.\n> \n> So, to understand what \"fan\" means, you need to consider the context in which it's used. \n"
          },
          "metadata": {},
          "execution_count": 10
        }
      ]
    },
    {
      "cell_type": "markdown",
      "source": [
        "**Now to use my resume for extracting information**"
      ],
      "metadata": {
        "id": "zeNlMXcb9alz"
      }
    },
    {
      "cell_type": "code",
      "source": [
        "!pip install PyPDF2\n"
      ],
      "metadata": {
        "colab": {
          "base_uri": "https://localhost:8080/"
        },
        "id": "ZNPeGs3ANZnt",
        "outputId": "09bf3fe0-a39f-4cb2-e98a-9dd6ef57c7ff"
      },
      "execution_count": null,
      "outputs": [
        {
          "output_type": "stream",
          "name": "stdout",
          "text": [
            "Collecting PyPDF2\n",
            "  Downloading pypdf2-3.0.1-py3-none-any.whl (232 kB)\n",
            "\u001b[2K     \u001b[90m━━━━━━━━━━━━━━━━━━━━━━━━━━━━━━━━━━━━━━━━\u001b[0m \u001b[32m232.6/232.6 kB\u001b[0m \u001b[31m1.7 MB/s\u001b[0m eta \u001b[36m0:00:00\u001b[0m\n",
            "\u001b[?25hInstalling collected packages: PyPDF2\n",
            "Successfully installed PyPDF2-3.0.1\n"
          ]
        }
      ]
    },
    {
      "cell_type": "code",
      "source": [
        "import PyPDF2\n",
        "\n",
        "def pdf_to_string(file_path):\n",
        "    pdf_text = \"\"\n",
        "    with open(file_path, 'rb') as file:\n",
        "        reader = PyPDF2.PdfReader(file)\n",
        "        for page_num in range(len(reader.pages)):\n",
        "            page = reader.pages[page_num]\n",
        "            pdf_text += page.extract_text()\n",
        "    return pdf_text\n",
        "\n",
        "file_path = '/content/resume.pdf'\n",
        "pdf_content = pdf_to_string(file_path)\n",
        "\n"
      ],
      "metadata": {
        "id": "x_z6lWo9Nb09"
      },
      "execution_count": null,
      "outputs": []
    },
    {
      "cell_type": "code",
      "source": [
        "import PyPDF2\n",
        "import google.generativeai as genai\n",
        "\n",
        "# Function to convert PDF to text\n",
        "def pdf_to_string(file_path):\n",
        "    pdf_text = \"\"\n",
        "    with open(file_path, 'rb') as file:\n",
        "        reader = PyPDF2.PdfReader(file)\n",
        "        for page_num in range(len(reader.pages)):\n",
        "            page = reader.pages[page_num]\n",
        "            pdf_text += page.extract_text()\n",
        "    return pdf_text\n",
        "\n",
        "\n",
        "genai.configure(api_key=GOOGLE_API_KEY)\n",
        "\n",
        "# Instantiating the Gemini model\n",
        "model = genai.GenerativeModel('gemini-1.5-flash')\n",
        "\n",
        "# Convert PDF to text\n",
        "file_path = '/content/resume.pdf'\n",
        "pdf_content = pdf_to_string(file_path)\n",
        "\n",
        "# Use the Gemini model to generate content relevant to education\n",
        "response = model.generate_content(\"Find education information in the given resume:\\n\" + pdf_content)\n",
        "\n",
        "# Display the response\n",
        "print(response.text)\n"
      ],
      "metadata": {
        "colab": {
          "base_uri": "https://localhost:8080/",
          "height": 471
        },
        "id": "LcYAQn5HSAMM",
        "outputId": "47609b8e-d753-44bf-a726-ceca03381e51"
      },
      "execution_count": null,
      "outputs": [
        {
          "output_type": "stream",
          "name": "stdout",
          "text": [
            "Here's the education information extracted from the resume:\n",
            "\n",
            "**Formal Education:**\n",
            "\n",
            "* **Bachelor of Science in Electrical Engineering (Major: Communication)**\n",
            "    * UET Peshawar, Pakistan\n",
            "    * June 2013\n",
            "* **Master of Science in Electrical Engineering (Major: Communication and Electronics)**\n",
            "    * UET Peshawar, Pakistan\n",
            "    * September 2019\n",
            "* **Master of Business Administration (Major: Human Resource Management)**\n",
            "    * VU, Pakistan\n",
            "    * June 2020\n",
            "* **Artificial Intelligence (Major: Machine Learning, Deep Learning)**\n",
            "    * Pakistan Institute of Artificial Intelligence\n",
            "    * June 2023 (Final Semester/Quarter)\n",
            "\n",
            "**Specialized Training:**\n",
            "\n",
            "* **GSM Optimization Training** - ZTE\n",
            "\n",
            "**Note:** While the resume lists \"Artificial Intelligence\" as a degree, it's likely a specialized program or certificate due to the short duration and the mention of \"Final Semester/Quarter.\"  \n",
            "\n",
            "Let me know if you'd like me to extract any other information from the resume! \n",
            "\n"
          ]
        }
      ]
    },
    {
      "cell_type": "code",
      "source": [],
      "metadata": {
        "id": "rzX7Sly8Yyvq"
      },
      "execution_count": null,
      "outputs": []
    },
    {
      "cell_type": "markdown",
      "source": [
        "## **Multi pdf parser gemini model**"
      ],
      "metadata": {
        "id": "IxW514AQZgqh"
      }
    },
    {
      "cell_type": "code",
      "source": [
        "!pip install -q -U google-generativeai\n",
        "!pip install PyPDF2\n",
        "\n",
        "import pathlib\n",
        "import textwrap\n",
        "\n",
        "import google.generativeai as genai\n",
        "from IPython.display import display, Markdown\n",
        "from google.colab import userdata\n",
        "import PyPDF2\n",
        "\n",
        "def to_markdown(text):\n",
        "    text = text.replace('•', '  *')\n",
        "    return Markdown(textwrap.indent(text, '> ', predicate=lambda _: True))\n",
        "\n",
        "# Used to securely store your API key\n",
        "GOOGLE_API_KEY = userdata.get('GOOGLE_API_KEY')\n",
        "\n",
        "genai.configure(api_key=GOOGLE_API_KEY)\n",
        "\n",
        "for m in genai.list_models():\n",
        "    if 'generateContent' in m.supported_generation_methods:\n",
        "        print(m.name)\n",
        "\n",
        "model = genai.GenerativeModel('gemini-1.5-flash')\n",
        "\n",
        "# Function to convert PDF to text\n",
        "def pdf_to_string(file_path):\n",
        "    pdf_text = \"\"\n",
        "    with open(file_path, 'rb') as file:\n",
        "        reader = PyPDF2.PdfReader(file)\n",
        "        for page_num in range(len(reader.pages)):\n",
        "            page = reader.pages[page_num]\n",
        "            pdf_text += page.extract_text()\n",
        "    return pdf_text\n",
        "\n",
        "# List of file paths to PDF resumes\n",
        "file_paths = [\n",
        "    '/content/any.pdf',\n",
        "    '/content/me.pdf',\n",
        "    '/content/police.pdf'  # Add more paths as needed\n",
        "]\n",
        "\n",
        "# Process each PDF resume\n",
        "for file_path in file_paths:\n",
        "    print(f\"Processing resume: {file_path}\")\n",
        "    pdf_content = pdf_to_string(file_path)\n",
        "\n",
        "    # Use the Gemini model to generate content relevant to education\n",
        "    response = model.generate_content(\"Find education information in the given resume:\\n\" + pdf_content)\n",
        "\n",
        "    # Display the response\n",
        "    print(f\"Response for {file_path}:\\n{response.text}\\n\")\n",
        "\n",
        "    # Optionally, display the response in Markdown format\n",
        "    display(to_markdown(response.text))\n"
      ],
      "metadata": {
        "id": "rC807R3il6GW",
        "colab": {
          "base_uri": "https://localhost:8080/",
          "height": 1000
        },
        "outputId": "2e96e921-e33c-43eb-af66-653c72cc754e"
      },
      "execution_count": 1,
      "outputs": [
        {
          "output_type": "stream",
          "name": "stdout",
          "text": [
            "\u001b[2K     \u001b[90m━━━━━━━━━━━━━━━━━━━━━━━━━━━━━━━━━━━━━━━━\u001b[0m \u001b[32m158.8/158.8 kB\u001b[0m \u001b[31m5.0 MB/s\u001b[0m eta \u001b[36m0:00:00\u001b[0m\n",
            "\u001b[?25hCollecting PyPDF2\n",
            "  Downloading pypdf2-3.0.1-py3-none-any.whl (232 kB)\n",
            "\u001b[2K     \u001b[90m━━━━━━━━━━━━━━━━━━━━━━━━━━━━━━━━━━━━━━━━\u001b[0m \u001b[32m232.6/232.6 kB\u001b[0m \u001b[31m5.3 MB/s\u001b[0m eta \u001b[36m0:00:00\u001b[0m\n",
            "\u001b[?25hInstalling collected packages: PyPDF2\n",
            "Successfully installed PyPDF2-3.0.1\n",
            "models/gemini-1.0-pro\n",
            "models/gemini-1.0-pro-001\n",
            "models/gemini-1.0-pro-latest\n",
            "models/gemini-1.0-pro-vision-latest\n",
            "models/gemini-1.5-flash\n",
            "models/gemini-1.5-flash-001\n",
            "models/gemini-1.5-flash-latest\n",
            "models/gemini-1.5-pro\n",
            "models/gemini-1.5-pro-001\n",
            "models/gemini-1.5-pro-latest\n",
            "models/gemini-pro\n",
            "models/gemini-pro-vision\n",
            "Processing resume: /content/any.pdf\n",
            "Response for /content/any.pdf:\n",
            "Here's the education information from the resume:\n",
            "\n",
            "**University of Arkansas at Little Rock, Little Rock, AR**\n",
            "\n",
            "* **BS in Early Childhood Development (1999)**\n",
            "    * GPA: 3.8\n",
            "* **BA in Elementary Education (1998)**\n",
            "    * GPA: 3.5\n",
            "* **Overall GPA (4.0 Scale): 3.4**\n",
            "* **Dean's List, Chancellor's List** \n",
            "\n",
            "\n"
          ]
        },
        {
          "output_type": "display_data",
          "data": {
            "text/plain": [
              "<IPython.core.display.Markdown object>"
            ],
            "text/markdown": "> Here's the education information from the resume:\n> \n> **University of Arkansas at Little Rock, Little Rock, AR**\n> \n> * **BS in Early Childhood Development (1999)**\n>     * GPA: 3.8\n> * **BA in Elementary Education (1998)**\n>     * GPA: 3.5\n> * **Overall GPA (4.0 Scale): 3.4**\n> * **Dean's List, Chancellor's List** \n"
          },
          "metadata": {}
        },
        {
          "output_type": "stream",
          "name": "stdout",
          "text": [
            "Processing resume: /content/me.pdf\n",
            "Response for /content/me.pdf:\n",
            "Here is the education information extracted from the resume:\n",
            "\n",
            "**Formal Education**\n",
            "\n",
            "* **Bachelor of Science in Electrical Engineering** (Major: Communication)\n",
            "    * UET Peshawar, Pakistan\n",
            "    * June 2013\n",
            "* **Master of Science in Electrical Engineering** (Major: Communication and Electronics)\n",
            "    * UET Peshawar, Pakistan\n",
            "    * September 2019\n",
            "* **Master of Business Administration** (Major: Human Resource Management)\n",
            "    * VU, Pakistan\n",
            "    * June 2020\n",
            "* **Artificial Intelligence** (Major: ML, Deep Learning)\n",
            "    * Pakistan Institute of Artificial Intelligence\n",
            "    * June 2023 (Final Semester/Quarter)\n",
            "\n",
            "**Informal Education**\n",
            "\n",
            "* **Python Programming** (DL using TensorFlow, Keras)\n",
            "* **Data Science** using Pandas, Numpy, Matplotlib, Beautiful soup etc\n",
            "* **Machine learning algorithms**, **Deep learning algorithms**, **Generative AI**\n",
            "* **GSM optimization training** (ZTE)\n",
            "* **Micro Controller Assembly language**\n",
            "* **Ladder Programming for PLCs**\n",
            "* **BTS Commissioning and configuration**\n",
            "\n",
            "**Key Observations:**\n",
            "\n",
            "* The resume highlights a strong foundation in Electrical Engineering with specialization in Communication and Electronics.\n",
            "* The individual has pursued additional education in business and artificial intelligence, indicating a desire for a multidisciplinary skillset.\n",
            "* The \"Artificial Intelligence\" program appears to be a more recent endeavor, perhaps a course or bootcamp rather than a formal degree. \n",
            "* The informal education section showcases a wide range of programming, software, and technical skills relevant to the fields of electrical engineering and data science. \n",
            "\n",
            "\n"
          ]
        },
        {
          "output_type": "display_data",
          "data": {
            "text/plain": [
              "<IPython.core.display.Markdown object>"
            ],
            "text/markdown": "> Here is the education information extracted from the resume:\n> \n> **Formal Education**\n> \n> * **Bachelor of Science in Electrical Engineering** (Major: Communication)\n>     * UET Peshawar, Pakistan\n>     * June 2013\n> * **Master of Science in Electrical Engineering** (Major: Communication and Electronics)\n>     * UET Peshawar, Pakistan\n>     * September 2019\n> * **Master of Business Administration** (Major: Human Resource Management)\n>     * VU, Pakistan\n>     * June 2020\n> * **Artificial Intelligence** (Major: ML, Deep Learning)\n>     * Pakistan Institute of Artificial Intelligence\n>     * June 2023 (Final Semester/Quarter)\n> \n> **Informal Education**\n> \n> * **Python Programming** (DL using TensorFlow, Keras)\n> * **Data Science** using Pandas, Numpy, Matplotlib, Beautiful soup etc\n> * **Machine learning algorithms**, **Deep learning algorithms**, **Generative AI**\n> * **GSM optimization training** (ZTE)\n> * **Micro Controller Assembly language**\n> * **Ladder Programming for PLCs**\n> * **BTS Commissioning and configuration**\n> \n> **Key Observations:**\n> \n> * The resume highlights a strong foundation in Electrical Engineering with specialization in Communication and Electronics.\n> * The individual has pursued additional education in business and artificial intelligence, indicating a desire for a multidisciplinary skillset.\n> * The \"Artificial Intelligence\" program appears to be a more recent endeavor, perhaps a course or bootcamp rather than a formal degree. \n> * The informal education section showcases a wide range of programming, software, and technical skills relevant to the fields of electrical engineering and data science. \n"
          },
          "metadata": {}
        },
        {
          "output_type": "stream",
          "name": "stdout",
          "text": [
            "Processing resume: /content/police.pdf\n",
            "Response for /content/police.pdf:\n",
            "Here's the education information from Gerard Delaney's resume:\n",
            "\n",
            "**EDUCATION**\n",
            "\n",
            "* **Bachelor of Science in Criminal Justice**\n",
            "    * **Stanford University**\n",
            "    * **Stanford, CA**\n",
            "    * **2004 - 2008** \n",
            "\n",
            "\n"
          ]
        },
        {
          "output_type": "display_data",
          "data": {
            "text/plain": [
              "<IPython.core.display.Markdown object>"
            ],
            "text/markdown": "> Here's the education information from Gerard Delaney's resume:\n> \n> **EDUCATION**\n> \n> * **Bachelor of Science in Criminal Justice**\n>     * **Stanford University**\n>     * **Stanford, CA**\n>     * **2004 - 2008** \n"
          },
          "metadata": {}
        }
      ]
    },
    {
      "cell_type": "code",
      "source": [
        "!pip install -q -U google-generativeai\n",
        "!pip install PyPDF2\n",
        "\n",
        "import pathlib\n",
        "import textwrap\n",
        "\n",
        "import google.generativeai as genai\n",
        "from IPython.display import display, Markdown\n",
        "from google.colab import userdata\n",
        "import PyPDF2\n",
        "\n",
        "def to_markdown(text):\n",
        "    text = text.replace('•', '  *')\n",
        "    return Markdown(textwrap.indent(text, '> ', predicate=lambda _: True))\n",
        "\n",
        "# Used to securely store  API key\n",
        "GOOGLE_API_KEY = userdata.get('GOOGLE_API_KEY')\n",
        "\n",
        "genai.configure(api_key=GOOGLE_API_KEY)\n",
        "\n",
        "for m in genai.list_models():\n",
        "    if 'generateContent' in m.supported_generation_methods:\n",
        "        print(m.name)\n",
        "\n",
        "model = genai.GenerativeModel('gemini-1.5-flash')\n",
        "\n",
        "# Function to convert PDF to text\n",
        "def pdf_to_string(file_path):\n",
        "    pdf_text = \"\"\n",
        "    with open(file_path, 'rb') as file:\n",
        "        reader = PyPDF2.PdfReader(file)\n",
        "        for page_num in range(len(reader.pages)):\n",
        "            page = reader.pages[page_num]\n",
        "            pdf_text += page.extract_text()\n",
        "    return pdf_text\n",
        "\n",
        "# List of file paths to PDF resumes\n",
        "file_paths = [\n",
        "    '/content/any.pdf',\n",
        "    '/content/me.pdf',\n",
        "    '/content/police.pdf' # Add more paths as needed\n",
        "]\n",
        "\n",
        "# Extract educational information from each resume\n",
        "educational_info = {}\n",
        "\n",
        "for file_path in file_paths:\n",
        "    print(f\"Processing resume: {file_path}\")\n",
        "    pdf_content = pdf_to_string(file_path)\n",
        "\n",
        "    # Use the Gemini model to generate content relevant to education\n",
        "    response = model.generate_content(\"Find education information in the given resume:\\n\" + pdf_content)\n",
        "\n",
        "    # Store the educational information\n",
        "    educational_info[file_path] = response.text\n",
        "\n",
        "    # Display the response\n",
        "    print(f\"Educational information for {file_path}:\\n{response.text}\\n\")\n",
        "\n",
        "    # Optionally, display the response in Markdown format\n",
        "    display(to_markdown(response.text))\n"
      ],
      "metadata": {
        "colab": {
          "base_uri": "https://localhost:8080/",
          "height": 1000
        },
        "id": "BmBnLM8C6Tqk",
        "outputId": "324ea4d3-4cc2-46d9-a0f1-e14022249813"
      },
      "execution_count": 2,
      "outputs": [
        {
          "output_type": "stream",
          "name": "stdout",
          "text": [
            "Requirement already satisfied: PyPDF2 in /usr/local/lib/python3.10/dist-packages (3.0.1)\n",
            "models/gemini-1.0-pro\n",
            "models/gemini-1.0-pro-001\n",
            "models/gemini-1.0-pro-latest\n",
            "models/gemini-1.0-pro-vision-latest\n",
            "models/gemini-1.5-flash\n",
            "models/gemini-1.5-flash-001\n",
            "models/gemini-1.5-flash-latest\n",
            "models/gemini-1.5-pro\n",
            "models/gemini-1.5-pro-001\n",
            "models/gemini-1.5-pro-latest\n",
            "models/gemini-pro\n",
            "models/gemini-pro-vision\n",
            "Processing resume: /content/any.pdf\n",
            "Educational information for /content/any.pdf:\n",
            "Here's the education information extracted from the resume:\n",
            "\n",
            "**University of Arkansas at Little Rock, Little Rock, AR**\n",
            "\n",
            "* **BS in Early Childhood Development (1999)**\n",
            "    * GPA: 3.8\n",
            "* **BA in Elementary Education (1998)**\n",
            "    * GPA: 3.5\n",
            "* **Overall GPA (4.0 Scale): 3.4**\n",
            "* **Dean's List, Chancellor's List** \n",
            "\n",
            "\n"
          ]
        },
        {
          "output_type": "display_data",
          "data": {
            "text/plain": [
              "<IPython.core.display.Markdown object>"
            ],
            "text/markdown": "> Here's the education information extracted from the resume:\n> \n> **University of Arkansas at Little Rock, Little Rock, AR**\n> \n> * **BS in Early Childhood Development (1999)**\n>     * GPA: 3.8\n> * **BA in Elementary Education (1998)**\n>     * GPA: 3.5\n> * **Overall GPA (4.0 Scale): 3.4**\n> * **Dean's List, Chancellor's List** \n"
          },
          "metadata": {}
        },
        {
          "output_type": "stream",
          "name": "stdout",
          "text": [
            "Processing resume: /content/me.pdf\n",
            "Educational information for /content/me.pdf:\n",
            "Here's the education information extracted from the resume:\n",
            "\n",
            "**Formal Education**\n",
            "\n",
            "* **Bachelor of Science in Electrical Engineering (Major: Communication)**\n",
            "    * UET Peshawar, Pakistan\n",
            "    * June 2013\n",
            "* **Master of Science in Electrical Engineering (Major: Communication and Electronics)**\n",
            "    * UET Peshawar, Pakistan\n",
            "    * September 2019\n",
            "* **Master of Business Administration (Major: Human Resource Management)**\n",
            "    * VU, Pakistan\n",
            "    * June 2020\n",
            "* **Artificial Intelligence (Major: ML, Deep Learning)**\n",
            "    * Pakistan Institute of Artificial Intelligence\n",
            "    * June 2023 (Final Semester/Quarter) \n",
            "\n",
            "**Additional Training**\n",
            "\n",
            "* **GSM Optimization Training:** ZTE \n",
            "\n",
            "**Note:** While the resume lists \"Artificial Intelligence\" as a program of study, it appears to be a specialized course or track within the Pakistan Institute of Artificial Intelligence rather than a full degree. \n",
            "\n",
            "\n"
          ]
        },
        {
          "output_type": "display_data",
          "data": {
            "text/plain": [
              "<IPython.core.display.Markdown object>"
            ],
            "text/markdown": "> Here's the education information extracted from the resume:\n> \n> **Formal Education**\n> \n> * **Bachelor of Science in Electrical Engineering (Major: Communication)**\n>     * UET Peshawar, Pakistan\n>     * June 2013\n> * **Master of Science in Electrical Engineering (Major: Communication and Electronics)**\n>     * UET Peshawar, Pakistan\n>     * September 2019\n> * **Master of Business Administration (Major: Human Resource Management)**\n>     * VU, Pakistan\n>     * June 2020\n> * **Artificial Intelligence (Major: ML, Deep Learning)**\n>     * Pakistan Institute of Artificial Intelligence\n>     * June 2023 (Final Semester/Quarter) \n> \n> **Additional Training**\n> \n> * **GSM Optimization Training:** ZTE \n> \n> **Note:** While the resume lists \"Artificial Intelligence\" as a program of study, it appears to be a specialized course or track within the Pakistan Institute of Artificial Intelligence rather than a full degree. \n"
          },
          "metadata": {}
        },
        {
          "output_type": "stream",
          "name": "stdout",
          "text": [
            "Processing resume: /content/police.pdf\n",
            "Educational information for /content/police.pdf:\n",
            "Here's the education information from Gerard Delaney's resume:\n",
            "\n",
            "* **Degree:** Bachelor of Science\n",
            "* **Major:** Criminal Justice\n",
            "* **Institution:** Stanford University\n",
            "* **Dates:** 2004 - 2008\n",
            "* **Location:** Stanford, CA \n",
            "\n",
            "\n"
          ]
        },
        {
          "output_type": "display_data",
          "data": {
            "text/plain": [
              "<IPython.core.display.Markdown object>"
            ],
            "text/markdown": "> Here's the education information from Gerard Delaney's resume:\n> \n> * **Degree:** Bachelor of Science\n> * **Major:** Criminal Justice\n> * **Institution:** Stanford University\n> * **Dates:** 2004 - 2008\n> * **Location:** Stanford, CA \n"
          },
          "metadata": {}
        }
      ]
    },
    {
      "cell_type": "markdown",
      "source": [
        "**## Using hard coded Function method to determine if the educational information is related to AI ##**"
      ],
      "metadata": {
        "id": "HxM95o-n7vpZ"
      }
    },
    {
      "cell_type": "code",
      "source": [
        "#### Function to determine if the educational information is related to AI ####\n",
        "def is_ai_related(education_text):\n",
        "    ai_keywords = ['artificial intelligence', 'AI', 'machine learning', 'deep learning', 'neural networks', 'data science']\n",
        "    education_text_lower = education_text.lower()\n",
        "    return any(keyword in education_text_lower for keyword in ai_keywords)\n",
        "\n",
        "# Check each educational information to see if it's related to AI\n",
        "ai_related_resumes = []\n",
        "\n",
        "for file_path, education_text in educational_info.items():\n",
        "    if is_ai_related(education_text):\n",
        "        ai_related_resumes.append(file_path)\n",
        "        print(f\"The resume at {file_path} is related to AI education.\")\n",
        "\n",
        "if not ai_related_resumes:\n",
        "    print(\"No resumes related to AI education were found.\")\n",
        "else:\n",
        "    print(f\"Resumes related to AI education: {ai_related_resumes}\")\n"
      ],
      "metadata": {
        "colab": {
          "base_uri": "https://localhost:8080/"
        },
        "id": "gbRMGeGq7Yhb",
        "outputId": "152afb28-d502-4c1d-a69a-0c11c87cc07d"
      },
      "execution_count": 3,
      "outputs": [
        {
          "output_type": "stream",
          "name": "stdout",
          "text": [
            "The resume at /content/me.pdf is related to AI education.\n",
            "Resumes related to AI education: ['/content/me.pdf']\n"
          ]
        }
      ]
    },
    {
      "cell_type": "markdown",
      "source": [
        "**Using Google gemeni model twice: First to extract information and then to decide which resume is related to AI**"
      ],
      "metadata": {
        "id": "mynzVhPN-dwY"
      }
    },
    {
      "cell_type": "code",
      "source": [
        "!pip install -q -U google-generativeai\n",
        "!pip install PyPDF2\n",
        "\n",
        "import pathlib\n",
        "import textwrap\n",
        "\n",
        "import google.generativeai as genai\n",
        "from IPython.display import display, Markdown\n",
        "from google.colab import userdata\n",
        "import PyPDF2\n",
        "\n",
        "def to_markdown(text):\n",
        "    text = text.replace('•', '  *')\n",
        "    return Markdown(textwrap.indent(text, '> ', predicate=lambda _: True))\n",
        "\n",
        "# Used to securely store  API key\n",
        "GOOGLE_API_KEY = userdata.get('GOOGLE_API_KEY')\n",
        "\n",
        "genai.configure(api_key=GOOGLE_API_KEY)\n",
        "\n",
        "for m in genai.list_models():\n",
        "    if 'generateContent' in m.supported_generation_methods:\n",
        "        print(m.name)\n",
        "\n",
        "model = genai.GenerativeModel('gemini-1.5-flash')\n",
        "\n",
        "# Function to convert PDF to text\n",
        "def pdf_to_string(file_path):\n",
        "    pdf_text = \"\"\n",
        "    with open(file_path, 'rb') as file:\n",
        "        reader = PyPDF2.PdfReader(file)\n",
        "        for page_num in range(len(reader.pages)):\n",
        "            page = reader.pages[page_num]\n",
        "            pdf_text += page.extract_text()\n",
        "    return pdf_text\n",
        "\n",
        "# List of file paths to PDF resumes\n",
        "file_paths = [\n",
        "    '/content/any.pdf',\n",
        "    '/content/me.pdf',\n",
        "    '/content/police.pdf' # Add more paths as needed\n",
        "]\n",
        "\n",
        "# Extract educational information from each resume\n",
        "educational_info = {}\n",
        "ai_related_resumes = []\n",
        "\n",
        "for file_path in file_paths:\n",
        "    print(f\"Processing resume: {file_path}\")\n",
        "    pdf_content = pdf_to_string(file_path)\n",
        "\n",
        "    # Use the Gemini model to generate content relevant to education\n",
        "    response = model.generate_content(\"Find education information in the given resume:\\n\" + pdf_content)\n",
        "\n",
        "    # Store the educational information\n",
        "    educational_info[file_path] = response.text\n",
        "\n",
        "    # Display the response\n",
        "    print(f\"Educational information for {file_path}:\\n{response.text}\\n\")\n",
        "\n",
        "    # Optionally, display the response in Markdown format\n",
        "    display(to_markdown(response.text))\n",
        "\n",
        "    # Use the model to determine if the education is related to AI\n",
        "    ai_check_response = model.generate_content(\"Is the following educational information related to AI?\\n\" + response.text)\n",
        "\n",
        "    if \"yes\" in ai_check_response.text.lower():\n",
        "        ai_related_resumes.append(file_path)\n",
        "        print(f\"The resume at {file_path} is related to AI education.\\n\")\n",
        "\n",
        "if not ai_related_resumes:\n",
        "    print(\"No resumes related to AI education were found.\")\n",
        "else:\n",
        "    print(f\"So finally the Resumes related to AI education is: {ai_related_resumes}\")\n"
      ],
      "metadata": {
        "colab": {
          "base_uri": "https://localhost:8080/",
          "height": 1000
        },
        "id": "w1VTQbc77jSN",
        "outputId": "770d9dc9-eccc-4433-d9df-18eeaeb78c48"
      },
      "execution_count": 4,
      "outputs": [
        {
          "output_type": "stream",
          "name": "stdout",
          "text": [
            "Requirement already satisfied: PyPDF2 in /usr/local/lib/python3.10/dist-packages (3.0.1)\n",
            "models/gemini-1.0-pro\n",
            "models/gemini-1.0-pro-001\n",
            "models/gemini-1.0-pro-latest\n",
            "models/gemini-1.0-pro-vision-latest\n",
            "models/gemini-1.5-flash\n",
            "models/gemini-1.5-flash-001\n",
            "models/gemini-1.5-flash-latest\n",
            "models/gemini-1.5-pro\n",
            "models/gemini-1.5-pro-001\n",
            "models/gemini-1.5-pro-latest\n",
            "models/gemini-pro\n",
            "models/gemini-pro-vision\n",
            "Processing resume: /content/any.pdf\n",
            "Educational information for /content/any.pdf:\n",
            "Here's the education information extracted from the resume:\n",
            "\n",
            "**Institution:** University of Arkansas at Little Rock, Little Rock, AR\n",
            "\n",
            "**Degrees:**\n",
            "* BS in Early Childhood Development (1999)\n",
            "* BA in Elementary Education (1998)\n",
            "\n",
            "**GPA:**\n",
            "* Early Childhood Development: 3.8 (4.0 scale)\n",
            "* Elementary Education: 3.5 (4.0 scale)\n",
            "* Overall: 3.4 (4.0 scale)\n",
            "\n",
            "**Honors:**\n",
            "* Dean's List\n",
            "* Chancellor's List \n",
            "\n",
            "\n"
          ]
        },
        {
          "output_type": "display_data",
          "data": {
            "text/plain": [
              "<IPython.core.display.Markdown object>"
            ],
            "text/markdown": "> Here's the education information extracted from the resume:\n> \n> **Institution:** University of Arkansas at Little Rock, Little Rock, AR\n> \n> **Degrees:**\n> * BS in Early Childhood Development (1999)\n> * BA in Elementary Education (1998)\n> \n> **GPA:**\n> * Early Childhood Development: 3.8 (4.0 scale)\n> * Elementary Education: 3.5 (4.0 scale)\n> * Overall: 3.4 (4.0 scale)\n> \n> **Honors:**\n> * Dean's List\n> * Chancellor's List \n"
          },
          "metadata": {}
        },
        {
          "output_type": "stream",
          "name": "stdout",
          "text": [
            "Processing resume: /content/me.pdf\n",
            "Educational information for /content/me.pdf:\n",
            "Here's a breakdown of the education information from the provided resume:\n",
            "\n",
            "**Formal Education**\n",
            "\n",
            "* **Bachelor of Science in Electrical Engineering (Major: Communication)**\n",
            "    *  UET Peshawar, Pakistan\n",
            "    *  June 2013\n",
            "* **Master of Science in Electrical Engineering (Major: Communication and Electronics)**\n",
            "    *  UET Peshawar, Pakistan\n",
            "    *  September 2019\n",
            "* **Master of Business Administration (Major: Human Resource Management)**\n",
            "    *  VU, Pakistan\n",
            "    *  June 2020\n",
            "* **Artificial Intelligence (Major: ML, Deep Learning)** \n",
            "    *  Pakistan Institute of Artificial Intelligence\n",
            "    *  June 2023 (Final Semester/Quarter) \n",
            "\n",
            "**Relevant Coursework/Skills**\n",
            "\n",
            "While not a formal degree, the resume also highlights specific skills and coursework related to the AI field:\n",
            "\n",
            "* **Python Programming:**\n",
            "    *  Deep Learning (using TensorFlow, Keras)\n",
            "* **Data Science:**\n",
            "    *  Pandas, Numpy, Matplotlib, Beautiful Soup\n",
            "* **Machine Learning Algorithms:** \n",
            "    *  Deep Learning Algorithms, Generative AI\n",
            "\n",
            "**Note:** The resume doesn't explicitly state whether the Artificial Intelligence program is a formal degree program or a certification or bootcamp. \n",
            "\n",
            "\n"
          ]
        },
        {
          "output_type": "display_data",
          "data": {
            "text/plain": [
              "<IPython.core.display.Markdown object>"
            ],
            "text/markdown": "> Here's a breakdown of the education information from the provided resume:\n> \n> **Formal Education**\n> \n> * **Bachelor of Science in Electrical Engineering (Major: Communication)**\n>     *  UET Peshawar, Pakistan\n>     *  June 2013\n> * **Master of Science in Electrical Engineering (Major: Communication and Electronics)**\n>     *  UET Peshawar, Pakistan\n>     *  September 2019\n> * **Master of Business Administration (Major: Human Resource Management)**\n>     *  VU, Pakistan\n>     *  June 2020\n> * **Artificial Intelligence (Major: ML, Deep Learning)** \n>     *  Pakistan Institute of Artificial Intelligence\n>     *  June 2023 (Final Semester/Quarter) \n> \n> **Relevant Coursework/Skills**\n> \n> While not a formal degree, the resume also highlights specific skills and coursework related to the AI field:\n> \n> * **Python Programming:**\n>     *  Deep Learning (using TensorFlow, Keras)\n> * **Data Science:**\n>     *  Pandas, Numpy, Matplotlib, Beautiful Soup\n> * **Machine Learning Algorithms:** \n>     *  Deep Learning Algorithms, Generative AI\n> \n> **Note:** The resume doesn't explicitly state whether the Artificial Intelligence program is a formal degree program or a certification or bootcamp. \n"
          },
          "metadata": {}
        },
        {
          "output_type": "stream",
          "name": "stdout",
          "text": [
            "The resume at /content/me.pdf is related to AI education.\n",
            "\n",
            "Processing resume: /content/police.pdf\n",
            "Educational information for /content/police.pdf:\n",
            "Here's the education information from the resume:\n",
            "\n",
            "**Education**\n",
            "\n",
            "* **Bachelor of Science, Criminal Justice**\n",
            "    * **Stanford University**\n",
            "    * **Stanford, CA**\n",
            "    * **2004 - 2008** \n",
            "\n",
            "\n"
          ]
        },
        {
          "output_type": "display_data",
          "data": {
            "text/plain": [
              "<IPython.core.display.Markdown object>"
            ],
            "text/markdown": "> Here's the education information from the resume:\n> \n> **Education**\n> \n> * **Bachelor of Science, Criminal Justice**\n>     * **Stanford University**\n>     * **Stanford, CA**\n>     * **2004 - 2008** \n"
          },
          "metadata": {}
        },
        {
          "output_type": "stream",
          "name": "stdout",
          "text": [
            "Resumes related to AI education: ['/content/me.pdf']\n"
          ]
        }
      ]
    },
    {
      "cell_type": "code",
      "source": [],
      "metadata": {
        "id": "JoJ9P9sa8g5D"
      },
      "execution_count": null,
      "outputs": []
    }
  ]
}